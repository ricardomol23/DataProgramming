{
 "cells": [
  {
   "cell_type": "markdown",
   "metadata": {},
   "source": [
    "siguientes actividades:\n",
    "• Realizar el proceso de Data-Wrangling, utilice las tecnicas que considere necesarias\n",
    "• analizar por lo menos 4 variables del dataset (una de las variables debe ser el tipo de vino, las otras 3 quedan a su discreción) usando tecnicas de EDA\n",
    "• Se debera entregar las conclusiones de cada paso que ejecuten en el proceso\n",
    "• El codigo debera ser entregado en una carpeta del repositorio que ya crearon los laboratorios.\n",
    "• La url debe ser enviada via correo electronico, y en la casilla de esta pregunta pueden solo poner \"Enviado\""
   ]
  },
  {
   "cell_type": "code",
   "execution_count": 78,
   "metadata": {},
   "outputs": [],
   "source": [
    "import pandas as pd\n",
    "import numpy as np"
   ]
  },
  {
   "cell_type": "markdown",
   "metadata": {},
   "source": [
    "Establezco los header"
   ]
  },
  {
   "cell_type": "code",
   "execution_count": 79,
   "metadata": {},
   "outputs": [],
   "source": [
    "headers = [\"fixed acidity\", \"volatile acidity\", \"citric acid\", \"residual sugar\", \"chlorides\", \"free sulfur dioxide\", \"total sulfur dioxide\", \"density\", \"pH\", \"sulphates\", \"alcohol\", \"quality\"]"
   ]
  },
  {
   "cell_type": "markdown",
   "metadata": {},
   "source": [
    "Busco los archivos"
   ]
  },
  {
   "cell_type": "code",
   "execution_count": 80,
   "metadata": {},
   "outputs": [],
   "source": [
    "ruta_archivo = \"C:\\\\Users\\\\Ricardo\\\\Desktop\\\\Wine\\\\Wine\\\\winequality-red.csv\"\n",
    "ruta_archivo2 = \"C:\\\\Users\\\\Ricardo\\\\Desktop\\\\Wine\\\\Wine\\\\winequality-white.csv\""
   ]
  },
  {
   "cell_type": "markdown",
   "metadata": {},
   "source": [
    "Leo los datos ademas establezco el delimitador y los headers"
   ]
  },
  {
   "cell_type": "code",
   "execution_count": 81,
   "metadata": {},
   "outputs": [
    {
     "name": "stdout",
     "output_type": "stream",
     "text": [
      "Red Wine Data:\n",
      "   fixed acidity  volatile acidity  citric acid  residual sugar  chlorides  \\\n",
      "0  fixed acidity  volatile acidity  citric acid  residual sugar  chlorides   \n",
      "1            7.4               0.7            0             1.9      0.076   \n",
      "2            7.8              0.88            0             2.6      0.098   \n",
      "3            7.8              0.76         0.04             2.3      0.092   \n",
      "4           11.2              0.28         0.56             1.9      0.075   \n",
      "\n",
      "   free sulfur dioxide  total sulfur dioxide  density    pH  sulphates  \\\n",
      "0  free sulfur dioxide  total sulfur dioxide  density    pH  sulphates   \n",
      "1                   11                    34   0.9978  3.51       0.56   \n",
      "2                   25                    67   0.9968   3.2       0.68   \n",
      "3                   15                    54    0.997  3.26       0.65   \n",
      "4                   17                    60    0.998  3.16       0.58   \n",
      "\n",
      "   alcohol  quality  \n",
      "0  alcohol  quality  \n",
      "1      9.4        5  \n",
      "2      9.8        5  \n",
      "3      9.8        5  \n",
      "4      9.8        6  \n",
      "\n",
      "White Wine Data:\n",
      "   fixed acidity  volatile acidity  citric acid  residual sugar  chlorides  \\\n",
      "0  fixed acidity  volatile acidity  citric acid  residual sugar  chlorides   \n",
      "1              7              0.27         0.36            20.7      0.045   \n",
      "2            6.3               0.3         0.34             1.6      0.049   \n",
      "3            8.1              0.28          0.4             6.9       0.05   \n",
      "4            7.2              0.23         0.32             8.5      0.058   \n",
      "\n",
      "   free sulfur dioxide  total sulfur dioxide  density    pH  sulphates  \\\n",
      "0  free sulfur dioxide  total sulfur dioxide  density    pH  sulphates   \n",
      "1                   45                   170    1.001     3       0.45   \n",
      "2                   14                   132    0.994   3.3       0.49   \n",
      "3                   30                    97   0.9951  3.26       0.44   \n",
      "4                   47                   186   0.9956  3.19        0.4   \n",
      "\n",
      "   alcohol  quality  \n",
      "0  alcohol  quality  \n",
      "1      8.8        6  \n",
      "2      9.5        6  \n",
      "3     10.1        6  \n",
      "4      9.9        6  \n"
     ]
    }
   ],
   "source": [
    "red = pd.read_csv(ruta_archivo,delimiter=\";\",header = None, names = headers)\n",
    "white = pd.read_csv(ruta_archivo2,delimiter=\";\",header= None, names = headers)\n",
    "\n",
    "# Leo las primeras filas \n",
    "print(\"Red Wine Data:\")\n",
    "print(red.head())\n",
    "print(\"\\nWhite Wine Data:\")\n",
    "print(white.head())"
   ]
  },
  {
   "cell_type": "code",
   "execution_count": 82,
   "metadata": {},
   "outputs": [
    {
     "name": "stdout",
     "output_type": "stream",
     "text": [
      "   fixed acidity  volatile acidity  citric acid  residual sugar  chlorides  \\\n",
      "0  fixed acidity  volatile acidity  citric acid  residual sugar  chlorides   \n",
      "1            7.4               0.7            0             1.9      0.076   \n",
      "2            7.8              0.88            0             2.6      0.098   \n",
      "3            7.8              0.76         0.04             2.3      0.092   \n",
      "4           11.2              0.28         0.56             1.9      0.075   \n",
      "\n",
      "   free sulfur dioxide  total sulfur dioxide  density    pH  sulphates  \\\n",
      "0  free sulfur dioxide  total sulfur dioxide  density    pH  sulphates   \n",
      "1                   11                    34   0.9978  3.51       0.56   \n",
      "2                   25                    67   0.9968   3.2       0.68   \n",
      "3                   15                    54    0.997  3.26       0.65   \n",
      "4                   17                    60    0.998  3.16       0.58   \n",
      "\n",
      "   alcohol  quality  \n",
      "0  alcohol  quality  \n",
      "1      9.4        5  \n",
      "2      9.8        5  \n",
      "3      9.8        5  \n",
      "4      9.8        6  \n",
      "   fixed acidity  volatile acidity  citric acid  residual sugar  chlorides  \\\n",
      "0  fixed acidity  volatile acidity  citric acid  residual sugar  chlorides   \n",
      "1              7              0.27         0.36            20.7      0.045   \n",
      "2            6.3               0.3         0.34             1.6      0.049   \n",
      "3            8.1              0.28          0.4             6.9       0.05   \n",
      "4            7.2              0.23         0.32             8.5      0.058   \n",
      "\n",
      "   free sulfur dioxide  total sulfur dioxide  density    pH  sulphates  \\\n",
      "0  free sulfur dioxide  total sulfur dioxide  density    pH  sulphates   \n",
      "1                   45                   170    1.001     3       0.45   \n",
      "2                   14                   132    0.994   3.3       0.49   \n",
      "3                   30                    97   0.9951  3.26       0.44   \n",
      "4                   47                   186   0.9956  3.19        0.4   \n",
      "\n",
      "   alcohol  quality  \n",
      "0  alcohol  quality  \n",
      "1      8.8        6  \n",
      "2      9.5        6  \n",
      "3     10.1        6  \n",
      "4      9.9        6  \n"
     ]
    }
   ],
   "source": [
    "import numpy as np\n",
    "\n",
    "# Iterate over DataFrames\n",
    "for df in [red, white]:\n",
    "  # Replace \"?\" with NaN\n",
    "  df.replace(\"?\", np.nan, inplace=True)\n",
    "\n",
    "# Print the first 5 rows of both DataFrames\n",
    "print(red.head(5))\n",
    "print(white.head(5))"
   ]
  },
  {
   "cell_type": "markdown",
   "metadata": {},
   "source": [
    "Cuento valores nulos y observo que no tienen"
   ]
  },
  {
   "cell_type": "code",
   "execution_count": 83,
   "metadata": {},
   "outputs": [
    {
     "name": "stdout",
     "output_type": "stream",
     "text": [
      "Conteo de NaN en el dataset de vino tinto:\n",
      "fixed acidity           0\n",
      "volatile acidity        0\n",
      "citric acid             0\n",
      "residual sugar          0\n",
      "chlorides               0\n",
      "free sulfur dioxide     0\n",
      "total sulfur dioxide    0\n",
      "density                 0\n",
      "pH                      0\n",
      "sulphates               0\n",
      "alcohol                 0\n",
      "quality                 0\n",
      "dtype: int64\n",
      "\n",
      "Conteo de NaN en el dataset de vino blanco:\n",
      "fixed acidity           0\n",
      "volatile acidity        0\n",
      "citric acid             0\n",
      "residual sugar          0\n",
      "chlorides               0\n",
      "free sulfur dioxide     0\n",
      "total sulfur dioxide    0\n",
      "density                 0\n",
      "pH                      0\n",
      "sulphates               0\n",
      "alcohol                 0\n",
      "quality                 0\n",
      "dtype: int64\n"
     ]
    }
   ],
   "source": [
    "def count_nan(df):\n",
    "  \n",
    "  return df.isnull().sum()\n",
    "\n",
    "# Contar NaN en ambos datasets\n",
    "red_nan_count = count_nan(red)\n",
    "white_nan_count = count_nan(white)\n",
    "\n",
    "# Imprimir el conteo de NaN\n",
    "print(\"Conteo de NaN en el dataset de vino tinto:\")\n",
    "print(red_nan_count)\n",
    "print(\"\\nConteo de NaN en el dataset de vino blanco:\")\n",
    "print(white_nan_count)\n"
   ]
  },
  {
   "cell_type": "markdown",
   "metadata": {},
   "source": [
    "# Analisis\n",
    "\n"
   ]
  },
  {
   "cell_type": "markdown",
   "metadata": {},
   "source": [
    "¿Cual de los vinos tiene mayor media de alchol?\n",
    "\n",
    "- Para ello debemos saber el tipo de dato de alchol\n",
    "- Saber cual es la media de alchol de cada uno de los vinos"
   ]
  },
  {
   "cell_type": "code",
   "execution_count": null,
   "metadata": {},
   "outputs": [],
   "source": []
  },
  {
   "cell_type": "code",
   "execution_count": 84,
   "metadata": {},
   "outputs": [
    {
     "data": {
      "text/plain": [
       "dtype('O')"
      ]
     },
     "execution_count": 84,
     "metadata": {},
     "output_type": "execute_result"
    }
   ],
   "source": [
    "red[\"alcohol\"].dtype\n",
    "#white[\"alcohol\"].dtype"
   ]
  }
 ],
 "metadata": {
  "kernelspec": {
   "display_name": "Python 3",
   "language": "python",
   "name": "python3"
  },
  "language_info": {
   "codemirror_mode": {
    "name": "ipython",
    "version": 3
   },
   "file_extension": ".py",
   "mimetype": "text/x-python",
   "name": "python",
   "nbconvert_exporter": "python",
   "pygments_lexer": "ipython3",
   "version": "3.11.3"
  }
 },
 "nbformat": 4,
 "nbformat_minor": 2
}
